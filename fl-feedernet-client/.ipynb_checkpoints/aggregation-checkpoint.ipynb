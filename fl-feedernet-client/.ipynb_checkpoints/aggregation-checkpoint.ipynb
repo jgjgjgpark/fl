{
 "cells": [
  {
   "cell_type": "code",
   "execution_count": 1,
   "id": "28c874d5",
   "metadata": {},
   "outputs": [],
   "source": [
    "from aggregation_server import AggregationServer\n",
    "from swagger_client import DefaultApi\n",
    "import json\n",
    "import requests\n",
    "import shutil\n",
    "import os"
   ]
  },
  {
   "cell_type": "markdown",
   "id": "59e0fb03",
   "metadata": {},
   "source": [
    "# Flow\n",
    "## fdsafd"
   ]
  },
  {
   "cell_type": "code",
   "execution_count": 3,
   "id": "152e41e2",
   "metadata": {},
   "outputs": [],
   "source": [
    "# my aggregation server\n",
    "class MyServer(AggregationServer):\n",
    "    def test(self):\n",
    "        print(self.test)\n",
    "    def learning_stop_condition(self):\n",
    "        return self.round == 100\n",
    "    "
   ]
  },
  {
   "cell_type": "code",
   "execution_count": 12,
   "id": "99a9cc47",
   "metadata": {},
   "outputs": [],
   "source": [
    "def get_cdms():\n",
    "    client = DefaultApi()\n",
    "    data = client.cdms_get(_preload_content=False)\n",
    "    data = json.loads(data.data.decode('utf-8'))   \n",
    "    return data"
   ]
  },
  {
   "cell_type": "code",
   "execution_count": 5,
   "id": "d5f9acf7",
   "metadata": {},
   "outputs": [],
   "source": [
    "# create analysis\n",
    "def create_analysis():\n",
    "    client = DefaultApi()\n",
    "    data = client.analyses_post(_preload_content=False)\n",
    "    data = json.loads(data.data.decode('utf-8'))\n",
    "    analysisId = data['data']['analysis']['analysisId']\n",
    "    return analysisId"
   ]
  },
  {
   "cell_type": "code",
   "execution_count": 6,
   "id": "3f4c2a1e",
   "metadata": {},
   "outputs": [],
   "source": [
    "def create_analysis1():\n",
    "    client = DefaultApi()\n",
    "    data = client.analyses_post(_preload_content=False)\n",
    "    data = json.loads(data.data.decode('utf-8'))   \n",
    "    return data"
   ]
  },
  {
   "cell_type": "code",
   "execution_count": 22,
   "id": "09d5d00c",
   "metadata": {},
   "outputs": [
    {
     "data": {
      "text/plain": [
       "['c2173e2d-100d-42b1-aae1-1b512cea14e9',\n",
       " '79629291-76ce-4eb8-980c-7dcadf57c285']"
      ]
     },
     "execution_count": 22,
     "metadata": {},
     "output_type": "execute_result"
    }
   ],
   "source": [
    "cdmInfos = get_cdms()\n",
    "cdms = map(lambda x: x[\"cdmId\"], cdmInfos['data']['Items'])\n",
    "list(cdms)"
   ]
  },
  {
   "cell_type": "code",
   "execution_count": 8,
   "id": "d94866ac",
   "metadata": {},
   "outputs": [],
   "source": []
  },
  {
   "cell_type": "code",
   "execution_count": 9,
   "id": "863a4434",
   "metadata": {},
   "outputs": [
    {
     "data": {
      "text/plain": [
       "{'data': {'analysis': {'createdAt': '2022-08-25T06:23:28.605Z',\n",
       "   'analysisId': '15fbfc87-de0d-4b26-b4be-07b2fd6c962d',\n",
       "   'status': 'created'}}}"
      ]
     },
     "execution_count": 9,
     "metadata": {},
     "output_type": "execute_result"
    }
   ],
   "source": [
    "data = create_analysis1()\n",
    "data"
   ]
  },
  {
   "cell_type": "code",
   "execution_count": null,
   "id": "bfa3731d",
   "metadata": {},
   "outputs": [],
   "source": [
    "# get predefined url for upload\n",
    "def get_predefined_url_4_upload(round, analysisId):\n",
    "    client = DefaultApi()\n",
    "    data = client.analyses_analysis_id_predefined_url_get(round, analysisId, _preload_content=False)\n",
    "    data = json.loads(data.data.decode('utf-8'))\n",
    "    url = data['data']\n",
    "    return url\n",
    "analysisId = create_analysis()\n",
    "url = get_predefined_url_4_upload(1, analysisId)\n",
    "url"
   ]
  },
  {
   "cell_type": "code",
   "execution_count": null,
   "id": "6032b958",
   "metadata": {},
   "outputs": [],
   "source": [
    "# program machine learning code with db connection(environment variable)\n",
    "# create and upload zip file to predefined url\n",
    "def zip_fl_execution(zip_dir_name, zip_file_name):\n",
    "    if not os.path.isdir(zip_dir_name):\n",
    "        raise Exception(\"not a directory\")\n",
    "    shutil.make_archive(zip_file_name, 'zip', zip_dir_name)\n",
    "    \n",
    "def getSize(fileobject):\n",
    "    fileobject.seek(0,2) # move the cursor to the end of the file\n",
    "    size = fileobject.tell()\n",
    "    return size\n",
    "\n",
    "zip_dir_name = 'sample_execution'\n",
    "zip_file_name = 'round_1_model'\n",
    "zip_fl_execution(zip_dir_name, zip_file_name)\n",
    "\n",
    "# upload file to S3 using presigned URL\n",
    "headers = {'Content-Length': 'application/octet-stream'}\n",
    "# files = { 'file': open(zip_file_name+'.zip', 'rb')}\n",
    "# with open(zip_file_name+'.zip', 'rb') as data:\n",
    "#     size = getSize(data)\n",
    "#     headers = {'Content-Length': str(size)}\n",
    "#     r = requests.post(url, files=files, headers=headers)\n",
    "# r = requests.put(url, files=files)\n",
    "with open(zip_file_name+'.zip', 'rb') as data:\n",
    "    r=requests.put(url, data=data)\n",
    "print(r.status_code)\n"
   ]
  },
  {
   "cell_type": "code",
   "execution_count": null,
   "id": "21aef298",
   "metadata": {},
   "outputs": [],
   "source": [
    "# get presigned url for download\n",
    "def get_predefined_url_4_download(round, analysisId):\n",
    "    client = DefaultApi()\n",
    "    data = client.analyses_analysis_id_rounds_round_put(analysisId, round, _preload_content=False)\n",
    "    data = json.loads(data.data.decode('utf-8'))\n",
    "    url = data['presignedGetUrl']\n",
    "    return url\n",
    "\n",
    "get_url = get_predefined_url_4_download(1, analysisId)\n",
    "get_url"
   ]
  },
  {
   "cell_type": "code",
   "execution_count": null,
   "id": "ba8ebb18",
   "metadata": {},
   "outputs": [],
   "source": []
  },
  {
   "cell_type": "code",
   "execution_count": null,
   "id": "7aa18ad6",
   "metadata": {},
   "outputs": [],
   "source": []
  },
  {
   "cell_type": "code",
   "execution_count": null,
   "id": "604e8abc",
   "metadata": {},
   "outputs": [],
   "source": []
  },
  {
   "cell_type": "code",
   "execution_count": null,
   "id": "eecf814c",
   "metadata": {},
   "outputs": [],
   "source": []
  },
  {
   "cell_type": "code",
   "execution_count": null,
   "id": "4ca8e416",
   "metadata": {},
   "outputs": [],
   "source": []
  },
  {
   "cell_type": "code",
   "execution_count": null,
   "id": "301f79e6",
   "metadata": {},
   "outputs": [],
   "source": []
  }
 ],
 "metadata": {
  "kernelspec": {
   "display_name": "Python 3 (ipykernel)",
   "language": "python",
   "name": "python3"
  },
  "language_info": {
   "codemirror_mode": {
    "name": "ipython",
    "version": 3
   },
   "file_extension": ".py",
   "mimetype": "text/x-python",
   "name": "python",
   "nbconvert_exporter": "python",
   "pygments_lexer": "ipython3",
   "version": "3.7.13"
  }
 },
 "nbformat": 4,
 "nbformat_minor": 5
}
